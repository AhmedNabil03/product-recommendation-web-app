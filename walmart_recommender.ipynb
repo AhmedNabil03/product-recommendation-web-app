{
 "cells": [
  {
   "cell_type": "markdown",
   "id": "49628c6e",
   "metadata": {},
   "source": [
    "# Importing Libraries"
   ]
  },
  {
   "cell_type": "code",
   "execution_count": 45,
   "id": "ff15014f",
   "metadata": {},
   "outputs": [],
   "source": [
    "import numpy as np\n",
    "import pandas as pd\n",
    "import seaborn as sns"
   ]
  },
  {
   "cell_type": "markdown",
   "id": "7bade764",
   "metadata": {},
   "source": [
    "# Importing Data"
   ]
  },
  {
   "cell_type": "code",
   "execution_count": 46,
   "id": "c08b18af",
   "metadata": {},
   "outputs": [],
   "source": [
    "data = pd.read_csv('walmart_product_review.tsv', sep='\\t')"
   ]
  },
  {
   "cell_type": "markdown",
   "id": "47218d1f",
   "metadata": {},
   "source": [
    "# Data Cleaning"
   ]
  },
  {
   "cell_type": "code",
   "execution_count": 47,
   "id": "5f792d28",
   "metadata": {},
   "outputs": [
    {
     "data": {
      "text/html": [
       "<div>\n",
       "<style scoped>\n",
       "    .dataframe tbody tr th:only-of-type {\n",
       "        vertical-align: middle;\n",
       "    }\n",
       "\n",
       "    .dataframe tbody tr th {\n",
       "        vertical-align: top;\n",
       "    }\n",
       "\n",
       "    .dataframe thead th {\n",
       "        text-align: right;\n",
       "    }\n",
       "</style>\n",
       "<table border=\"1\" class=\"dataframe\">\n",
       "  <thead>\n",
       "    <tr style=\"text-align: right;\">\n",
       "      <th></th>\n",
       "      <th>Uniq Id</th>\n",
       "      <th>Crawl Timestamp</th>\n",
       "      <th>Dataset Origin</th>\n",
       "      <th>Product Id</th>\n",
       "      <th>Product Barcode</th>\n",
       "      <th>Product Company Type Source</th>\n",
       "      <th>Product Brand Source</th>\n",
       "      <th>Product Brand Normalised Source</th>\n",
       "      <th>Product Name Source</th>\n",
       "      <th>Match Rank</th>\n",
       "      <th>...</th>\n",
       "      <th>Product Currency</th>\n",
       "      <th>Product Available Inventory</th>\n",
       "      <th>Product Image Url</th>\n",
       "      <th>Product Model Number</th>\n",
       "      <th>Product Tags</th>\n",
       "      <th>Product Contents</th>\n",
       "      <th>Product Rating</th>\n",
       "      <th>Product Reviews Count</th>\n",
       "      <th>Bsr</th>\n",
       "      <th>Joining Key</th>\n",
       "    </tr>\n",
       "  </thead>\n",
       "  <tbody>\n",
       "    <tr>\n",
       "      <th>0</th>\n",
       "      <td>1705736792d82aa2f2d3caf1c07c53f4</td>\n",
       "      <td>2020-09-24 03:21:12 +0000</td>\n",
       "      <td>NaN</td>\n",
       "      <td>2e17bf4acecdece67fc00f07ad62c910</td>\n",
       "      <td>NaN</td>\n",
       "      <td>Competitor</td>\n",
       "      <td>NaN</td>\n",
       "      <td>NaN</td>\n",
       "      <td>NaN</td>\n",
       "      <td>NaN</td>\n",
       "      <td>...</td>\n",
       "      <td>USD</td>\n",
       "      <td>111111111</td>\n",
       "      <td>https://i5.walmartimages.com/asr/0e1f4c51-c1a4...</td>\n",
       "      <td>NaN</td>\n",
       "      <td>OPI Infinite Shine, Nail Lacquer Nail Polish, ...</td>\n",
       "      <td>NaN</td>\n",
       "      <td>NaN</td>\n",
       "      <td>NaN</td>\n",
       "      <td>NaN</td>\n",
       "      <td>81350af1be98d3753cf964709f0c766a</td>\n",
       "    </tr>\n",
       "  </tbody>\n",
       "</table>\n",
       "<p>1 rows × 32 columns</p>\n",
       "</div>"
      ],
      "text/plain": [
       "                            Uniq Id            Crawl Timestamp  \\\n",
       "0  1705736792d82aa2f2d3caf1c07c53f4  2020-09-24 03:21:12 +0000   \n",
       "\n",
       "   Dataset Origin                        Product Id  Product Barcode  \\\n",
       "0             NaN  2e17bf4acecdece67fc00f07ad62c910              NaN   \n",
       "\n",
       "  Product Company Type Source Product Brand Source  \\\n",
       "0                  Competitor                  NaN   \n",
       "\n",
       "  Product Brand Normalised Source Product Name Source  Match Rank  ...  \\\n",
       "0                             NaN                 NaN         NaN  ...   \n",
       "\n",
       "   Product Currency  Product Available Inventory  \\\n",
       "0               USD                    111111111   \n",
       "\n",
       "                                   Product Image Url Product Model Number  \\\n",
       "0  https://i5.walmartimages.com/asr/0e1f4c51-c1a4...                  NaN   \n",
       "\n",
       "                                        Product Tags Product Contents  \\\n",
       "0  OPI Infinite Shine, Nail Lacquer Nail Polish, ...              NaN   \n",
       "\n",
       "   Product Rating  Product Reviews Count  Bsr  \\\n",
       "0             NaN                    NaN  NaN   \n",
       "\n",
       "                        Joining Key  \n",
       "0  81350af1be98d3753cf964709f0c766a  \n",
       "\n",
       "[1 rows x 32 columns]"
      ]
     },
     "execution_count": 47,
     "metadata": {},
     "output_type": "execute_result"
    }
   ],
   "source": [
    "df = data.copy()\n",
    "df.head(1)"
   ]
  },
  {
   "cell_type": "code",
   "execution_count": 48,
   "id": "d78a5102",
   "metadata": {},
   "outputs": [
    {
     "data": {
      "text/plain": [
       "(5000, 32)"
      ]
     },
     "execution_count": 48,
     "metadata": {},
     "output_type": "execute_result"
    }
   ],
   "source": [
    "df.shape"
   ]
  },
  {
   "cell_type": "code",
   "execution_count": 49,
   "id": "cda7e74a",
   "metadata": {},
   "outputs": [
    {
     "data": {
      "text/plain": [
       "Uniq Id                               0\n",
       "Crawl Timestamp                       0\n",
       "Dataset Origin                     5000\n",
       "Product Id                            0\n",
       "Product Barcode                    5000\n",
       "Product Company Type Source           0\n",
       "Product Brand Source               4861\n",
       "Product Brand Normalised Source    4861\n",
       "Product Name Source                4861\n",
       "Match Rank                         5000\n",
       "Match Score                        5000\n",
       "Match Type                         5000\n",
       "Retailer                              0\n",
       "Product Category                     10\n",
       "Product Brand                        13\n",
       "Product Name                          0\n",
       "Product Price                        42\n",
       "Sku                                5000\n",
       "Upc                                5000\n",
       "Product Url                           0\n",
       "Market                                0\n",
       "Product Description                1127\n",
       "Product Currency                      0\n",
       "Product Available Inventory           0\n",
       "Product Image Url                     0\n",
       "Product Model Number               5000\n",
       "Product Tags                          0\n",
       "Product Contents                   5000\n",
       "Product Rating                     2806\n",
       "Product Reviews Count              1654\n",
       "Bsr                                5000\n",
       "Joining Key                           0\n",
       "dtype: int64"
      ]
     },
     "execution_count": 49,
     "metadata": {},
     "output_type": "execute_result"
    }
   ],
   "source": [
    "df.isnull().sum()"
   ]
  },
  {
   "cell_type": "code",
   "execution_count": 50,
   "id": "75cca1f8",
   "metadata": {},
   "outputs": [
    {
     "data": {
      "text/plain": [
       "Index(['Dataset Origin', 'Product Barcode', 'Product Brand Source',\n",
       "       'Product Brand Normalised Source', 'Product Name Source', 'Match Rank',\n",
       "       'Match Score', 'Match Type', 'Sku', 'Upc', 'Product Model Number',\n",
       "       'Product Contents', 'Bsr'],\n",
       "      dtype='object')"
      ]
     },
     "execution_count": 50,
     "metadata": {},
     "output_type": "execute_result"
    }
   ],
   "source": [
    "columns_to_drop = df.columns[df.isnull().sum() >= df.shape[0] * 0.9]\n",
    "columns_to_drop"
   ]
  },
  {
   "cell_type": "code",
   "execution_count": 51,
   "id": "3c37ce37",
   "metadata": {},
   "outputs": [
    {
     "data": {
      "text/html": [
       "<div>\n",
       "<style scoped>\n",
       "    .dataframe tbody tr th:only-of-type {\n",
       "        vertical-align: middle;\n",
       "    }\n",
       "\n",
       "    .dataframe tbody tr th {\n",
       "        vertical-align: top;\n",
       "    }\n",
       "\n",
       "    .dataframe thead th {\n",
       "        text-align: right;\n",
       "    }\n",
       "</style>\n",
       "<table border=\"1\" class=\"dataframe\">\n",
       "  <thead>\n",
       "    <tr style=\"text-align: right;\">\n",
       "      <th></th>\n",
       "      <th>Uniq Id</th>\n",
       "      <th>Crawl Timestamp</th>\n",
       "      <th>Product Id</th>\n",
       "      <th>Product Company Type Source</th>\n",
       "      <th>Retailer</th>\n",
       "      <th>Product Category</th>\n",
       "      <th>Product Brand</th>\n",
       "      <th>Product Name</th>\n",
       "      <th>Product Price</th>\n",
       "      <th>Product Url</th>\n",
       "      <th>Market</th>\n",
       "      <th>Product Description</th>\n",
       "      <th>Product Currency</th>\n",
       "      <th>Product Available Inventory</th>\n",
       "      <th>Product Image Url</th>\n",
       "      <th>Product Tags</th>\n",
       "      <th>Product Rating</th>\n",
       "      <th>Product Reviews Count</th>\n",
       "      <th>Joining Key</th>\n",
       "    </tr>\n",
       "  </thead>\n",
       "  <tbody>\n",
       "    <tr>\n",
       "      <th>0</th>\n",
       "      <td>1705736792d82aa2f2d3caf1c07c53f4</td>\n",
       "      <td>2020-09-24 03:21:12 +0000</td>\n",
       "      <td>2e17bf4acecdece67fc00f07ad62c910</td>\n",
       "      <td>Competitor</td>\n",
       "      <td>walmart.com</td>\n",
       "      <td>Premium Beauty &gt; Premium Makeup &gt; Premium Nail...</td>\n",
       "      <td>OPI</td>\n",
       "      <td>OPI Infinite Shine, Nail Lacquer Nail Polish, ...</td>\n",
       "      <td>8.95</td>\n",
       "      <td>https://www.walmart.com/ip/OPI-Infinite-Shine-...</td>\n",
       "      <td>US</td>\n",
       "      <td>NaN</td>\n",
       "      <td>USD</td>\n",
       "      <td>111111111</td>\n",
       "      <td>https://i5.walmartimages.com/asr/0e1f4c51-c1a4...</td>\n",
       "      <td>OPI Infinite Shine, Nail Lacquer Nail Polish, ...</td>\n",
       "      <td>NaN</td>\n",
       "      <td>NaN</td>\n",
       "      <td>81350af1be98d3753cf964709f0c766a</td>\n",
       "    </tr>\n",
       "  </tbody>\n",
       "</table>\n",
       "</div>"
      ],
      "text/plain": [
       "                            Uniq Id            Crawl Timestamp  \\\n",
       "0  1705736792d82aa2f2d3caf1c07c53f4  2020-09-24 03:21:12 +0000   \n",
       "\n",
       "                         Product Id Product Company Type Source     Retailer  \\\n",
       "0  2e17bf4acecdece67fc00f07ad62c910                  Competitor  walmart.com   \n",
       "\n",
       "                                    Product Category Product Brand  \\\n",
       "0  Premium Beauty > Premium Makeup > Premium Nail...           OPI   \n",
       "\n",
       "                                        Product Name  Product Price  \\\n",
       "0  OPI Infinite Shine, Nail Lacquer Nail Polish, ...           8.95   \n",
       "\n",
       "                                         Product Url Market  \\\n",
       "0  https://www.walmart.com/ip/OPI-Infinite-Shine-...     US   \n",
       "\n",
       "  Product Description Product Currency  Product Available Inventory  \\\n",
       "0                 NaN              USD                    111111111   \n",
       "\n",
       "                                   Product Image Url  \\\n",
       "0  https://i5.walmartimages.com/asr/0e1f4c51-c1a4...   \n",
       "\n",
       "                                        Product Tags  Product Rating  \\\n",
       "0  OPI Infinite Shine, Nail Lacquer Nail Polish, ...             NaN   \n",
       "\n",
       "   Product Reviews Count                       Joining Key  \n",
       "0                    NaN  81350af1be98d3753cf964709f0c766a  "
      ]
     },
     "execution_count": 51,
     "metadata": {},
     "output_type": "execute_result"
    }
   ],
   "source": [
    "df = df.drop(columns=columns_to_drop)\n",
    "df.head(1)"
   ]
  },
  {
   "cell_type": "code",
   "execution_count": 52,
   "id": "6d4b084b",
   "metadata": {},
   "outputs": [
    {
     "data": {
      "text/plain": [
       "Uniq Id                           0\n",
       "Crawl Timestamp                   0\n",
       "Product Id                        0\n",
       "Product Company Type Source       0\n",
       "Retailer                          0\n",
       "Product Category                 10\n",
       "Product Brand                    13\n",
       "Product Name                      0\n",
       "Product Price                    42\n",
       "Product Url                       0\n",
       "Market                            0\n",
       "Product Description            1127\n",
       "Product Currency                  0\n",
       "Product Available Inventory       0\n",
       "Product Image Url                 0\n",
       "Product Tags                      0\n",
       "Product Rating                 2806\n",
       "Product Reviews Count          1654\n",
       "Joining Key                       0\n",
       "dtype: int64"
      ]
     },
     "execution_count": 52,
     "metadata": {},
     "output_type": "execute_result"
    }
   ],
   "source": [
    "df.isnull().sum()"
   ]
  },
  {
   "cell_type": "code",
   "execution_count": 53,
   "id": "54033a1d",
   "metadata": {},
   "outputs": [
    {
     "data": {
      "text/plain": [
       "0       2020-09-24 03:21:12 +0000\n",
       "1       2020-10-30 14:04:08 +0000\n",
       "2       2020-08-06 05:51:47 +0000\n",
       "3       2020-07-15 11:22:04 +0000\n",
       "4       2020-11-26T12:27:20+00:00\n",
       "                  ...            \n",
       "4995    2020-07-21 19:00:03 +0000\n",
       "4996    2020-07-01 05:45:18 +0000\n",
       "4997    2020-12-01T02:02:32+00:00\n",
       "4998    2020-10-20 21:29:05 +0000\n",
       "4999    2020-11-12T10:54:32+00:00\n",
       "Name: Crawl Timestamp, Length: 5000, dtype: object"
      ]
     },
     "execution_count": 53,
     "metadata": {},
     "output_type": "execute_result"
    }
   ],
   "source": [
    "df['Crawl Timestamp']"
   ]
  },
  {
   "cell_type": "code",
   "execution_count": 54,
   "id": "8376d647",
   "metadata": {},
   "outputs": [
    {
     "data": {
      "text/plain": [
       "Product Company Type Source\n",
       "Competitor    4861\n",
       "Unilever       139\n",
       "Name: count, dtype: int64"
      ]
     },
     "execution_count": 54,
     "metadata": {},
     "output_type": "execute_result"
    }
   ],
   "source": [
    "df['Product Company Type Source'].value_counts()"
   ]
  },
  {
   "cell_type": "code",
   "execution_count": 55,
   "id": "02e07eeb",
   "metadata": {},
   "outputs": [
    {
     "data": {
      "text/plain": [
       "Retailer\n",
       "walmart.com    5000\n",
       "Name: count, dtype: int64"
      ]
     },
     "execution_count": 55,
     "metadata": {},
     "output_type": "execute_result"
    }
   ],
   "source": [
    "df['Retailer'].value_counts()"
   ]
  },
  {
   "cell_type": "code",
   "execution_count": 56,
   "id": "289efa2f",
   "metadata": {},
   "outputs": [
    {
     "data": {
      "text/plain": [
       "Market\n",
       "US    5000\n",
       "Name: count, dtype: int64"
      ]
     },
     "execution_count": 56,
     "metadata": {},
     "output_type": "execute_result"
    }
   ],
   "source": [
    "df['Market'].value_counts()"
   ]
  },
  {
   "cell_type": "code",
   "execution_count": 57,
   "id": "4aa4e311",
   "metadata": {},
   "outputs": [
    {
     "data": {
      "text/plain": [
       "Product Currency\n",
       "USD    5000\n",
       "Name: count, dtype: int64"
      ]
     },
     "execution_count": 57,
     "metadata": {},
     "output_type": "execute_result"
    }
   ],
   "source": [
    "df['Product Currency'].value_counts()"
   ]
  },
  {
   "cell_type": "code",
   "execution_count": 58,
   "id": "d31cd759",
   "metadata": {},
   "outputs": [
    {
     "data": {
      "text/plain": [
       "Product Available Inventory\n",
       "111111111    5000\n",
       "Name: count, dtype: int64"
      ]
     },
     "execution_count": 58,
     "metadata": {},
     "output_type": "execute_result"
    }
   ],
   "source": [
    "df['Product Available Inventory'].value_counts()"
   ]
  },
  {
   "cell_type": "code",
   "execution_count": 59,
   "id": "30f78912",
   "metadata": {},
   "outputs": [
    {
     "data": {
      "text/plain": [
       "0       81350af1be98d3753cf964709f0c766a\n",
       "1       0353e63907dc0de0c734db4690300057\n",
       "2       b6985c8e94815fbca2319dbb8bf228af\n",
       "3       85b70fded09186f00467cea2f935b779\n",
       "4       41c870871328e97da6fb036bb7d4b2da\n",
       "                      ...               \n",
       "4995    30ffe1476e6289c474ab1c08e503be4b\n",
       "4996    dad7562b7fb37c2f2eaf07644f0a8702\n",
       "4997    acf460a46f2b2967ee0b0a9ae3eff7dc\n",
       "4998    cd97ac9b2e21a81ea23e4bea58096df7\n",
       "4999    69870b86f5ab30b15b025ca7a3489e39\n",
       "Name: Joining Key, Length: 5000, dtype: object"
      ]
     },
     "execution_count": 59,
     "metadata": {},
     "output_type": "execute_result"
    }
   ],
   "source": [
    "df['Joining Key']"
   ]
  },
  {
   "cell_type": "code",
   "execution_count": 60,
   "id": "4af7ccef",
   "metadata": {},
   "outputs": [
    {
     "data": {
      "text/html": [
       "<div>\n",
       "<style scoped>\n",
       "    .dataframe tbody tr th:only-of-type {\n",
       "        vertical-align: middle;\n",
       "    }\n",
       "\n",
       "    .dataframe tbody tr th {\n",
       "        vertical-align: top;\n",
       "    }\n",
       "\n",
       "    .dataframe thead th {\n",
       "        text-align: right;\n",
       "    }\n",
       "</style>\n",
       "<table border=\"1\" class=\"dataframe\">\n",
       "  <thead>\n",
       "    <tr style=\"text-align: right;\">\n",
       "      <th></th>\n",
       "      <th>Uniq Id</th>\n",
       "      <th>Product Id</th>\n",
       "      <th>Product Category</th>\n",
       "      <th>Product Brand</th>\n",
       "      <th>Product Name</th>\n",
       "      <th>Product Price</th>\n",
       "      <th>Product Url</th>\n",
       "      <th>Product Description</th>\n",
       "      <th>Product Image Url</th>\n",
       "      <th>Product Tags</th>\n",
       "      <th>Product Rating</th>\n",
       "      <th>Product Reviews Count</th>\n",
       "    </tr>\n",
       "  </thead>\n",
       "  <tbody>\n",
       "    <tr>\n",
       "      <th>0</th>\n",
       "      <td>1705736792d82aa2f2d3caf1c07c53f4</td>\n",
       "      <td>2e17bf4acecdece67fc00f07ad62c910</td>\n",
       "      <td>Premium Beauty &gt; Premium Makeup &gt; Premium Nail...</td>\n",
       "      <td>OPI</td>\n",
       "      <td>OPI Infinite Shine, Nail Lacquer Nail Polish, ...</td>\n",
       "      <td>8.95</td>\n",
       "      <td>https://www.walmart.com/ip/OPI-Infinite-Shine-...</td>\n",
       "      <td>NaN</td>\n",
       "      <td>https://i5.walmartimages.com/asr/0e1f4c51-c1a4...</td>\n",
       "      <td>OPI Infinite Shine, Nail Lacquer Nail Polish, ...</td>\n",
       "      <td>NaN</td>\n",
       "      <td>NaN</td>\n",
       "    </tr>\n",
       "    <tr>\n",
       "      <th>1</th>\n",
       "      <td>95a9fe6f4810fcfc7ff244fd06784f11</td>\n",
       "      <td>076e5854a62dd283c253d6bae415af1f</td>\n",
       "      <td>Beauty &gt; Hair Care &gt; Hair Color &gt; Auburn Hair ...</td>\n",
       "      <td>Nice'n Easy</td>\n",
       "      <td>Nice n Easy Permanent Color, 111 Natural Mediu...</td>\n",
       "      <td>29.86</td>\n",
       "      <td>https://www.walmart.com/ip/Nice-n-Easy-Permane...</td>\n",
       "      <td>Pack of 3 Pack of 3 for the UPC: 381519000201 ...</td>\n",
       "      <td>https://i5.walmartimages.com/asr/9c8e42e4-13a5...</td>\n",
       "      <td>Nice 'n Easy Permanent Color, 111 Natural Medi...</td>\n",
       "      <td>NaN</td>\n",
       "      <td>NaN</td>\n",
       "    </tr>\n",
       "  </tbody>\n",
       "</table>\n",
       "</div>"
      ],
      "text/plain": [
       "                            Uniq Id                        Product Id  \\\n",
       "0  1705736792d82aa2f2d3caf1c07c53f4  2e17bf4acecdece67fc00f07ad62c910   \n",
       "1  95a9fe6f4810fcfc7ff244fd06784f11  076e5854a62dd283c253d6bae415af1f   \n",
       "\n",
       "                                    Product Category Product Brand  \\\n",
       "0  Premium Beauty > Premium Makeup > Premium Nail...           OPI   \n",
       "1  Beauty > Hair Care > Hair Color > Auburn Hair ...   Nice'n Easy   \n",
       "\n",
       "                                        Product Name  Product Price  \\\n",
       "0  OPI Infinite Shine, Nail Lacquer Nail Polish, ...           8.95   \n",
       "1  Nice n Easy Permanent Color, 111 Natural Mediu...          29.86   \n",
       "\n",
       "                                         Product Url  \\\n",
       "0  https://www.walmart.com/ip/OPI-Infinite-Shine-...   \n",
       "1  https://www.walmart.com/ip/Nice-n-Easy-Permane...   \n",
       "\n",
       "                                 Product Description  \\\n",
       "0                                                NaN   \n",
       "1  Pack of 3 Pack of 3 for the UPC: 381519000201 ...   \n",
       "\n",
       "                                   Product Image Url  \\\n",
       "0  https://i5.walmartimages.com/asr/0e1f4c51-c1a4...   \n",
       "1  https://i5.walmartimages.com/asr/9c8e42e4-13a5...   \n",
       "\n",
       "                                        Product Tags  Product Rating  \\\n",
       "0  OPI Infinite Shine, Nail Lacquer Nail Polish, ...             NaN   \n",
       "1  Nice 'n Easy Permanent Color, 111 Natural Medi...             NaN   \n",
       "\n",
       "   Product Reviews Count  \n",
       "0                    NaN  \n",
       "1                    NaN  "
      ]
     },
     "execution_count": 60,
     "metadata": {},
     "output_type": "execute_result"
    }
   ],
   "source": [
    "df.drop(columns=['Crawl Timestamp', 'Product Company Type Source', 'Retailer', 'Market', 'Product Currency', 'Product Available Inventory', 'Joining Key'], inplace=True)\n",
    "df.head(2)"
   ]
  },
  {
   "cell_type": "code",
   "execution_count": 61,
   "id": "ab583af7",
   "metadata": {},
   "outputs": [],
   "source": [
    "column_name_mapping = {\n",
    "    'Uniq Id': 'ID',\n",
    "    'Product Id': 'ProdID',\n",
    "    'Product Category': 'Category',\n",
    "    'Product Brand': 'Brand',\n",
    "    'Product Name': 'Name',\n",
    "    'Product Price': 'Price',\n",
    "    'Product Url': 'URL',\n",
    "    'Product Description': 'Description',\n",
    "    'Product Image Url': 'AllImagesURLs',\n",
    "    'Product Tags': 'Tags',\n",
    "    'Product Rating': 'Rating',\n",
    "    'Product Reviews Count': 'ReviewCount'\n",
    "}\n",
    "df.rename(columns=column_name_mapping, inplace=True)"
   ]
  },
  {
   "cell_type": "code",
   "execution_count": 62,
   "id": "236296df",
   "metadata": {},
   "outputs": [
    {
     "data": {
      "text/html": [
       "<div>\n",
       "<style scoped>\n",
       "    .dataframe tbody tr th:only-of-type {\n",
       "        vertical-align: middle;\n",
       "    }\n",
       "\n",
       "    .dataframe tbody tr th {\n",
       "        vertical-align: top;\n",
       "    }\n",
       "\n",
       "    .dataframe thead th {\n",
       "        text-align: right;\n",
       "    }\n",
       "</style>\n",
       "<table border=\"1\" class=\"dataframe\">\n",
       "  <thead>\n",
       "    <tr style=\"text-align: right;\">\n",
       "      <th></th>\n",
       "      <th>ID</th>\n",
       "      <th>ProdID</th>\n",
       "      <th>Category</th>\n",
       "      <th>Brand</th>\n",
       "      <th>Name</th>\n",
       "      <th>Price</th>\n",
       "      <th>URL</th>\n",
       "      <th>Description</th>\n",
       "      <th>AllImagesURLs</th>\n",
       "      <th>Tags</th>\n",
       "      <th>Rating</th>\n",
       "      <th>ReviewCount</th>\n",
       "    </tr>\n",
       "  </thead>\n",
       "  <tbody>\n",
       "    <tr>\n",
       "      <th>0</th>\n",
       "      <td>1705736792d82aa2f2d3caf1c07c53f4</td>\n",
       "      <td>2e17bf4acecdece67fc00f07ad62c910</td>\n",
       "      <td>Premium Beauty &gt; Premium Makeup &gt; Premium Nail...</td>\n",
       "      <td>OPI</td>\n",
       "      <td>OPI Infinite Shine, Nail Lacquer Nail Polish, ...</td>\n",
       "      <td>8.95</td>\n",
       "      <td>https://www.walmart.com/ip/OPI-Infinite-Shine-...</td>\n",
       "      <td>NaN</td>\n",
       "      <td>https://i5.walmartimages.com/asr/0e1f4c51-c1a4...</td>\n",
       "      <td>OPI Infinite Shine, Nail Lacquer Nail Polish, ...</td>\n",
       "      <td>NaN</td>\n",
       "      <td>NaN</td>\n",
       "    </tr>\n",
       "    <tr>\n",
       "      <th>1</th>\n",
       "      <td>95a9fe6f4810fcfc7ff244fd06784f11</td>\n",
       "      <td>076e5854a62dd283c253d6bae415af1f</td>\n",
       "      <td>Beauty &gt; Hair Care &gt; Hair Color &gt; Auburn Hair ...</td>\n",
       "      <td>Nice'n Easy</td>\n",
       "      <td>Nice n Easy Permanent Color, 111 Natural Mediu...</td>\n",
       "      <td>29.86</td>\n",
       "      <td>https://www.walmart.com/ip/Nice-n-Easy-Permane...</td>\n",
       "      <td>Pack of 3 Pack of 3 for the UPC: 381519000201 ...</td>\n",
       "      <td>https://i5.walmartimages.com/asr/9c8e42e4-13a5...</td>\n",
       "      <td>Nice 'n Easy Permanent Color, 111 Natural Medi...</td>\n",
       "      <td>NaN</td>\n",
       "      <td>NaN</td>\n",
       "    </tr>\n",
       "  </tbody>\n",
       "</table>\n",
       "</div>"
      ],
      "text/plain": [
       "                                 ID                            ProdID  \\\n",
       "0  1705736792d82aa2f2d3caf1c07c53f4  2e17bf4acecdece67fc00f07ad62c910   \n",
       "1  95a9fe6f4810fcfc7ff244fd06784f11  076e5854a62dd283c253d6bae415af1f   \n",
       "\n",
       "                                            Category        Brand  \\\n",
       "0  Premium Beauty > Premium Makeup > Premium Nail...          OPI   \n",
       "1  Beauty > Hair Care > Hair Color > Auburn Hair ...  Nice'n Easy   \n",
       "\n",
       "                                                Name  Price  \\\n",
       "0  OPI Infinite Shine, Nail Lacquer Nail Polish, ...   8.95   \n",
       "1  Nice n Easy Permanent Color, 111 Natural Mediu...  29.86   \n",
       "\n",
       "                                                 URL  \\\n",
       "0  https://www.walmart.com/ip/OPI-Infinite-Shine-...   \n",
       "1  https://www.walmart.com/ip/Nice-n-Easy-Permane...   \n",
       "\n",
       "                                         Description  \\\n",
       "0                                                NaN   \n",
       "1  Pack of 3 Pack of 3 for the UPC: 381519000201 ...   \n",
       "\n",
       "                                       AllImagesURLs  \\\n",
       "0  https://i5.walmartimages.com/asr/0e1f4c51-c1a4...   \n",
       "1  https://i5.walmartimages.com/asr/9c8e42e4-13a5...   \n",
       "\n",
       "                                                Tags  Rating  ReviewCount  \n",
       "0  OPI Infinite Shine, Nail Lacquer Nail Polish, ...     NaN          NaN  \n",
       "1  Nice 'n Easy Permanent Color, 111 Natural Medi...     NaN          NaN  "
      ]
     },
     "execution_count": 62,
     "metadata": {},
     "output_type": "execute_result"
    }
   ],
   "source": [
    "df.head(2)"
   ]
  },
  {
   "cell_type": "code",
   "execution_count": 63,
   "id": "c04bd633",
   "metadata": {},
   "outputs": [
    {
     "data": {
      "text/plain": [
       "ID                  0\n",
       "ProdID              0\n",
       "Category           10\n",
       "Brand              13\n",
       "Name                0\n",
       "Price              42\n",
       "URL                 0\n",
       "Description      1127\n",
       "AllImagesURLs       0\n",
       "Tags                0\n",
       "Rating           2806\n",
       "ReviewCount      1654\n",
       "dtype: int64"
      ]
     },
     "execution_count": 63,
     "metadata": {},
     "output_type": "execute_result"
    }
   ],
   "source": [
    "df.isnull().sum()"
   ]
  },
  {
   "cell_type": "code",
   "execution_count": 64,
   "id": "2a086df0",
   "metadata": {},
   "outputs": [
    {
     "data": {
      "text/plain": [
       "ID                0\n",
       "ProdID            0\n",
       "Category          0\n",
       "Brand             0\n",
       "Name              0\n",
       "Price            42\n",
       "URL               0\n",
       "Description       0\n",
       "AllImagesURLs     0\n",
       "Tags              0\n",
       "Rating            0\n",
       "ReviewCount       0\n",
       "dtype: int64"
      ]
     },
     "execution_count": 64,
     "metadata": {},
     "output_type": "execute_result"
    }
   ],
   "source": [
    "fill_values = {\n",
    "    'Rating': 0,\n",
    "    'ReviewCount': 0,\n",
    "    'Category': '',\n",
    "    'Brand': '',\n",
    "    'Description': ''\n",
    "}\n",
    "\n",
    "df.fillna(fill_values, inplace=True)\n",
    "df.isnull().sum()"
   ]
  },
  {
   "cell_type": "code",
   "execution_count": 65,
   "id": "77e85199",
   "metadata": {},
   "outputs": [
    {
     "data": {
      "text/plain": [
       "0"
      ]
     },
     "execution_count": 65,
     "metadata": {},
     "output_type": "execute_result"
    }
   ],
   "source": [
    "df.duplicated().sum()"
   ]
  },
  {
   "cell_type": "code",
   "execution_count": 66,
   "id": "d4281e53",
   "metadata": {},
   "outputs": [
    {
     "data": {
      "text/plain": [
       "Index(['ID', 'ProdID', 'Category', 'Brand', 'Name', 'Price', 'URL',\n",
       "       'Description', 'AllImagesURLs', 'Tags', 'Rating', 'ReviewCount'],\n",
       "      dtype='object')"
      ]
     },
     "execution_count": 66,
     "metadata": {},
     "output_type": "execute_result"
    }
   ],
   "source": [
    "df.columns"
   ]
  },
  {
   "cell_type": "markdown",
   "id": "88b19286",
   "metadata": {},
   "source": [
    "# EDA"
   ]
  },
  {
   "cell_type": "code",
   "execution_count": 67,
   "id": "90c0c3e2",
   "metadata": {},
   "outputs": [
    {
     "name": "stdout",
     "output_type": "stream",
     "text": [
      "Num of Unique Products:  4802\n",
      "Num of Brands:  1601\n"
     ]
    }
   ],
   "source": [
    "print('Num of Unique Products: ', df['ProdID'].nunique())\n",
    "print('Num of Brands: ', df['Brand'].nunique())"
   ]
  },
  {
   "cell_type": "code",
   "execution_count": 68,
   "id": "2b630754",
   "metadata": {},
   "outputs": [
    {
     "name": "stdout",
     "output_type": "stream",
     "text": [
      "Totlal num of categories:  989\n",
      "Highest Level Categories:  29\n",
      "Highest Level Categories:  ['Premium Beauty' 'Beauty' 'Seasonal' 'Personal Care' 'Health' 'Home'\n",
      " 'Patio & Garden' 'Household Essentials' 'Clothing' 'Sports & Outdoors'\n",
      " 'Baby' '' 'Food' 'Auto & Tires' 'Home Improvement' 'Shop by Brand'\n",
      " 'Gifts & Registry' 'Industrial & Scientific' 'Pets' 'Character Shop'\n",
      " 'Toys' 'Arts Crafts & Sewing' 'Feature' 'Cell Phones' 'Electronics'\n",
      " 'Party & Occasions' 'Jewelry' 'Books' 'Office Supplies']\n"
     ]
    }
   ],
   "source": [
    "print('Totlal num of categories: ', df['Category'].nunique())\n",
    "\n",
    "highest_level_cat = df['Category'].str.strip().str.split(' > ').str[0].unique()\n",
    "print('Highest Level Categories: ', len(highest_level_cat))\n",
    "print('Highest Level Categories: ', df['Category'].str.split(' > ').str[0].unique())"
   ]
  },
  {
   "cell_type": "code",
   "execution_count": 69,
   "id": "e7270692",
   "metadata": {},
   "outputs": [
    {
     "data": {
      "text/html": [
       "<div>\n",
       "<style scoped>\n",
       "    .dataframe tbody tr th:only-of-type {\n",
       "        vertical-align: middle;\n",
       "    }\n",
       "\n",
       "    .dataframe tbody tr th {\n",
       "        vertical-align: top;\n",
       "    }\n",
       "\n",
       "    .dataframe thead th {\n",
       "        text-align: right;\n",
       "    }\n",
       "</style>\n",
       "<table border=\"1\" class=\"dataframe\">\n",
       "  <thead>\n",
       "    <tr style=\"text-align: right;\">\n",
       "      <th></th>\n",
       "      <th>Price</th>\n",
       "    </tr>\n",
       "  </thead>\n",
       "  <tbody>\n",
       "    <tr>\n",
       "      <th>count</th>\n",
       "      <td>4958.000000</td>\n",
       "    </tr>\n",
       "    <tr>\n",
       "      <th>mean</th>\n",
       "      <td>23.364425</td>\n",
       "    </tr>\n",
       "    <tr>\n",
       "      <th>std</th>\n",
       "      <td>35.182204</td>\n",
       "    </tr>\n",
       "    <tr>\n",
       "      <th>min</th>\n",
       "      <td>0.100000</td>\n",
       "    </tr>\n",
       "    <tr>\n",
       "      <th>25%</th>\n",
       "      <td>8.400000</td>\n",
       "    </tr>\n",
       "    <tr>\n",
       "      <th>50%</th>\n",
       "      <td>14.950000</td>\n",
       "    </tr>\n",
       "    <tr>\n",
       "      <th>75%</th>\n",
       "      <td>26.007500</td>\n",
       "    </tr>\n",
       "    <tr>\n",
       "      <th>max</th>\n",
       "      <td>722.450000</td>\n",
       "    </tr>\n",
       "  </tbody>\n",
       "</table>\n",
       "</div>"
      ],
      "text/plain": [
       "             Price\n",
       "count  4958.000000\n",
       "mean     23.364425\n",
       "std      35.182204\n",
       "min       0.100000\n",
       "25%       8.400000\n",
       "50%      14.950000\n",
       "75%      26.007500\n",
       "max     722.450000"
      ]
     },
     "execution_count": 69,
     "metadata": {},
     "output_type": "execute_result"
    }
   ],
   "source": [
    "df[df['Price'] != 0][['Price']].describe()"
   ]
  },
  {
   "cell_type": "code",
   "execution_count": 70,
   "id": "342210b9",
   "metadata": {},
   "outputs": [
    {
     "data": {
      "text/plain": [
       "<Axes: xlabel='Price', ylabel='Count'>"
      ]
     },
     "execution_count": 70,
     "metadata": {},
     "output_type": "execute_result"
    },
    {
     "data": {
      "image/png": "[encoded data removed]",
      "text/plain": [
       "<Figure size 640x480 with 1 Axes>"
      ]
     },
     "metadata": {},
     "output_type": "display_data"
    }
   ],
   "source": [
    "sns.histplot(df['Price'], kde=True)"
   ]
  },
  {
   "cell_type": "code",
   "execution_count": 71,
   "id": "a3802817",
   "metadata": {},
   "outputs": [
    {
     "data": {
      "text/html": [
       "<div>\n",
       "<style scoped>\n",
       "    .dataframe tbody tr th:only-of-type {\n",
       "        vertical-align: middle;\n",
       "    }\n",
       "\n",
       "    .dataframe tbody tr th {\n",
       "        vertical-align: top;\n",
       "    }\n",
       "\n",
       "    .dataframe thead th {\n",
       "        text-align: right;\n",
       "    }\n",
       "</style>\n",
       "<table border=\"1\" class=\"dataframe\">\n",
       "  <thead>\n",
       "    <tr style=\"text-align: right;\">\n",
       "      <th></th>\n",
       "      <th>Rating</th>\n",
       "    </tr>\n",
       "  </thead>\n",
       "  <tbody>\n",
       "    <tr>\n",
       "      <th>count</th>\n",
       "      <td>2194.000000</td>\n",
       "    </tr>\n",
       "    <tr>\n",
       "      <th>mean</th>\n",
       "      <td>4.294622</td>\n",
       "    </tr>\n",
       "    <tr>\n",
       "      <th>std</th>\n",
       "      <td>0.773311</td>\n",
       "    </tr>\n",
       "    <tr>\n",
       "      <th>min</th>\n",
       "      <td>1.000000</td>\n",
       "    </tr>\n",
       "    <tr>\n",
       "      <th>25%</th>\n",
       "      <td>4.000000</td>\n",
       "    </tr>\n",
       "    <tr>\n",
       "      <th>50%</th>\n",
       "      <td>4.500000</td>\n",
       "    </tr>\n",
       "    <tr>\n",
       "      <th>75%</th>\n",
       "      <td>4.800000</td>\n",
       "    </tr>\n",
       "    <tr>\n",
       "      <th>max</th>\n",
       "      <td>5.000000</td>\n",
       "    </tr>\n",
       "  </tbody>\n",
       "</table>\n",
       "</div>"
      ],
      "text/plain": [
       "            Rating\n",
       "count  2194.000000\n",
       "mean      4.294622\n",
       "std       0.773311\n",
       "min       1.000000\n",
       "25%       4.000000\n",
       "50%       4.500000\n",
       "75%       4.800000\n",
       "max       5.000000"
      ]
     },
     "execution_count": 71,
     "metadata": {},
     "output_type": "execute_result"
    }
   ],
   "source": [
    "df[df['Rating'] != 0][['Rating']].describe()"
   ]
  },
  {
   "cell_type": "code",
   "execution_count": 72,
   "id": "ce244301",
   "metadata": {},
   "outputs": [
    {
     "data": {
      "text/plain": [
       "<Axes: ylabel='Frequency'>"
      ]
     },
     "execution_count": 72,
     "metadata": {},
     "output_type": "execute_result"
    },
    {
     "data": {
      "image/png": "[encoded data removed]",
      "text/plain": [
       "<Figure size 640x480 with 1 Axes>"
      ]
     },
     "metadata": {},
     "output_type": "display_data"
    }
   ],
   "source": [
    "df['Rating'].plot(kind='hist', bins=20)"
   ]
  },
  {
   "cell_type": "code",
   "execution_count": 73,
   "id": "bbef1d20",
   "metadata": {},
   "outputs": [
    {
     "data": {
      "text/html": [
       "<div>\n",
       "<style scoped>\n",
       "    .dataframe tbody tr th:only-of-type {\n",
       "        vertical-align: middle;\n",
       "    }\n",
       "\n",
       "    .dataframe tbody tr th {\n",
       "        vertical-align: top;\n",
       "    }\n",
       "\n",
       "    .dataframe thead th {\n",
       "        text-align: right;\n",
       "    }\n",
       "</style>\n",
       "<table border=\"1\" class=\"dataframe\">\n",
       "  <thead>\n",
       "    <tr style=\"text-align: right;\">\n",
       "      <th></th>\n",
       "      <th>ReviewCount</th>\n",
       "    </tr>\n",
       "  </thead>\n",
       "  <tbody>\n",
       "    <tr>\n",
       "      <th>count</th>\n",
       "      <td>3346.000000</td>\n",
       "    </tr>\n",
       "    <tr>\n",
       "      <th>mean</th>\n",
       "      <td>571.035565</td>\n",
       "    </tr>\n",
       "    <tr>\n",
       "      <th>std</th>\n",
       "      <td>2485.699363</td>\n",
       "    </tr>\n",
       "    <tr>\n",
       "      <th>min</th>\n",
       "      <td>1.000000</td>\n",
       "    </tr>\n",
       "    <tr>\n",
       "      <th>25%</th>\n",
       "      <td>3.000000</td>\n",
       "    </tr>\n",
       "    <tr>\n",
       "      <th>50%</th>\n",
       "      <td>20.000000</td>\n",
       "    </tr>\n",
       "    <tr>\n",
       "      <th>75%</th>\n",
       "      <td>170.000000</td>\n",
       "    </tr>\n",
       "    <tr>\n",
       "      <th>max</th>\n",
       "      <td>29242.000000</td>\n",
       "    </tr>\n",
       "  </tbody>\n",
       "</table>\n",
       "</div>"
      ],
      "text/plain": [
       "        ReviewCount\n",
       "count   3346.000000\n",
       "mean     571.035565\n",
       "std     2485.699363\n",
       "min        1.000000\n",
       "25%        3.000000\n",
       "50%       20.000000\n",
       "75%      170.000000\n",
       "max    29242.000000"
      ]
     },
     "execution_count": 73,
     "metadata": {},
     "output_type": "execute_result"
    }
   ],
   "source": [
    "df[df['ReviewCount'] != 0][['ReviewCount']].describe()"
   ]
  },
  {
   "cell_type": "markdown",
   "id": "4887407f",
   "metadata": {},
   "source": [
    "alot of zero ratings for items that haven't been rated"
   ]
  },
  {
   "cell_type": "code",
   "execution_count": 74,
   "id": "6b7d50c9",
   "metadata": {},
   "outputs": [
    {
     "data": {
      "text/plain": [
       "<Axes: ylabel='Density'>"
      ]
     },
     "execution_count": 74,
     "metadata": {},
     "output_type": "execute_result"
    },
    {
     "data": {
      "image/png": "[encoded data removed]",
      "text/plain": [
       "<Figure size 640x480 with 1 Axes>"
      ]
     },
     "metadata": {},
     "output_type": "display_data"
    }
   ],
   "source": [
    "df['ReviewCount'].plot(kind='kde')"
   ]
  },
  {
   "cell_type": "markdown",
   "id": "a7b61794",
   "metadata": {},
   "source": [
    "# Data Preprocessing"
   ]
  },
  {
   "cell_type": "code",
   "execution_count": 75,
   "id": "9f5b8fd3",
   "metadata": {},
   "outputs": [
    {
     "data": {
      "text/plain": [
       "Tags\n",
       "[Wal-mart, Walmart.com]    5000\n",
       "Name: count, dtype: int64"
      ]
     },
     "execution_count": 75,
     "metadata": {},
     "output_type": "execute_result"
    }
   ],
   "source": [
    "# the last 2 tags are always the same\n",
    "df['Tags'].apply(lambda x: [tag.strip() for tag in x.split(',')][-2:]).value_counts()"
   ]
  },
  {
   "cell_type": "code",
   "execution_count": 76,
   "id": "522a5309",
   "metadata": {},
   "outputs": [],
   "source": [
    "# remove the last 2 tags\n",
    "df['Tags'] = df['Tags'].apply(lambda x: ', '.join([tag.strip() for tag in x.split(',')][:-2]))"
   ]
  },
  {
   "cell_type": "code",
   "execution_count": 77,
   "id": "add1607a",
   "metadata": {},
   "outputs": [],
   "source": [
    "# text clean function\n",
    "import re\n",
    "def clean_text(text):\n",
    "    text = re.sub(r'[^a-zA-Z0-9\\s,]', '', text)\n",
    "    text = text.lower()\n",
    "    return text"
   ]
  },
  {
   "cell_type": "code",
   "execution_count": 78,
   "id": "50665ecc",
   "metadata": {},
   "outputs": [],
   "source": [
    "df['Description'] = df['Description'].apply(clean_text)\n",
    "df['Tags'] = df['Tags'].apply(clean_text)\n",
    "df['Category'] = df['Category'].apply(clean_text)"
   ]
  },
  {
   "cell_type": "code",
   "execution_count": 79,
   "id": "207f0ce2",
   "metadata": {},
   "outputs": [],
   "source": [
    "df['ImageURL'] = df['AllImagesURLs'].apply(lambda x: x.split()[0])"
   ]
  },
  {
   "cell_type": "code",
   "execution_count": 80,
   "id": "4097f6ae",
   "metadata": {},
   "outputs": [],
   "source": [
    "df.to_csv('cleaned_products.csv')"
   ]
  },
  {
   "cell_type": "markdown",
   "id": "1112c37b",
   "metadata": {},
   "source": [
    "# Base Recommendation System"
   ]
  },
  {
   "cell_type": "markdown",
   "id": "74f9c5e8",
   "metadata": {},
   "source": [
    "### A Base Recommender Based on Rating and Review Count"
   ]
  },
  {
   "cell_type": "code",
   "execution_count": 81,
   "id": "612566e8",
   "metadata": {},
   "outputs": [
    {
     "data": {
      "text/html": [
       "<div>\n",
       "<style scoped>\n",
       "    .dataframe tbody tr th:only-of-type {\n",
       "        vertical-align: middle;\n",
       "    }\n",
       "\n",
       "    .dataframe tbody tr th {\n",
       "        vertical-align: top;\n",
       "    }\n",
       "\n",
       "    .dataframe thead th {\n",
       "        text-align: right;\n",
       "    }\n",
       "</style>\n",
       "<table border=\"1\" class=\"dataframe\">\n",
       "  <thead>\n",
       "    <tr style=\"text-align: right;\">\n",
       "      <th></th>\n",
       "      <th>Name</th>\n",
       "      <th>Rating</th>\n",
       "      <th>ReviewCount</th>\n",
       "      <th>Price</th>\n",
       "      <th>URL</th>\n",
       "    </tr>\n",
       "  </thead>\n",
       "  <tbody>\n",
       "    <tr>\n",
       "      <th>22</th>\n",
       "      <td>ACT Braces Care Anticavity Mouthwash (18 Oz, C...</td>\n",
       "      <td>5.0</td>\n",
       "      <td>32.0</td>\n",
       "      <td>3.98</td>\n",
       "      <td>https://www.walmart.com/ip/ACT-Braces-Care-Ant...</td>\n",
       "    </tr>\n",
       "    <tr>\n",
       "      <th>467</th>\n",
       "      <td>Versace Man Eau Fraiche Eau De Toilette Spray,...</td>\n",
       "      <td>5.0</td>\n",
       "      <td>24.0</td>\n",
       "      <td>30.00</td>\n",
       "      <td>https://www.walmart.com/ip/Versace-Man-Eau-Fra...</td>\n",
       "    </tr>\n",
       "    <tr>\n",
       "      <th>302</th>\n",
       "      <td>Tree Hut Shea Sugar Scrub Passion Fruit &amp; Guav...</td>\n",
       "      <td>5.0</td>\n",
       "      <td>22.0</td>\n",
       "      <td>6.48</td>\n",
       "      <td>https://www.walmart.com/ip/Tree-Hut-Shea-Sugar...</td>\n",
       "    </tr>\n",
       "    <tr>\n",
       "      <th>2318</th>\n",
       "      <td>Biolage Hydrasource Conditioning Balm For Dry ...</td>\n",
       "      <td>5.0</td>\n",
       "      <td>21.0</td>\n",
       "      <td>18.99</td>\n",
       "      <td>https://www.walmart.com/ip/Biolage-Hydrasource...</td>\n",
       "    </tr>\n",
       "    <tr>\n",
       "      <th>3355</th>\n",
       "      <td>Ardell Double Up False Eyelashes, 203</td>\n",
       "      <td>5.0</td>\n",
       "      <td>19.0</td>\n",
       "      <td>8.28</td>\n",
       "      <td>https://www.walmart.com/ip/Ardell-Double-Up-Fa...</td>\n",
       "    </tr>\n",
       "    <tr>\n",
       "      <th>3376</th>\n",
       "      <td>Hello Kids Fluoride Free and SLS Free Rinse, N...</td>\n",
       "      <td>5.0</td>\n",
       "      <td>19.0</td>\n",
       "      <td>13.49</td>\n",
       "      <td>https://www.walmart.com/ip/Hello-Kids-Fluoride...</td>\n",
       "    </tr>\n",
       "    <tr>\n",
       "      <th>1921</th>\n",
       "      <td>ReNew Life CleanseMore, Veggie Caps, 60 ea</td>\n",
       "      <td>5.0</td>\n",
       "      <td>15.0</td>\n",
       "      <td>15.55</td>\n",
       "      <td>https://www.walmart.com/ip/ReNew-Life-CleanseM...</td>\n",
       "    </tr>\n",
       "    <tr>\n",
       "      <th>149</th>\n",
       "      <td>Clay-Park Labs Ammonium Lactate Lotion 12% 14 ...</td>\n",
       "      <td>5.0</td>\n",
       "      <td>13.0</td>\n",
       "      <td>73.55</td>\n",
       "      <td>https://www.walmart.com/ip/Clay-Park-Labs-Ammo...</td>\n",
       "    </tr>\n",
       "    <tr>\n",
       "      <th>1620</th>\n",
       "      <td>(2 Pack) Pro Styl Vitamin &amp;quotE&amp;quot Oil, 6 Oz</td>\n",
       "      <td>5.0</td>\n",
       "      <td>13.0</td>\n",
       "      <td>6.83</td>\n",
       "      <td>https://www.walmart.com/ip/2-Pack-Pro-Styl-Vit...</td>\n",
       "    </tr>\n",
       "    <tr>\n",
       "      <th>1622</th>\n",
       "      <td>Gaiam Kids Yoga Mat Pink Zebra, 4mm</td>\n",
       "      <td>5.0</td>\n",
       "      <td>13.0</td>\n",
       "      <td>14.28</td>\n",
       "      <td>https://www.walmart.com/ip/Gaiam-Kids-Yoga-Mat...</td>\n",
       "    </tr>\n",
       "  </tbody>\n",
       "</table>\n",
       "</div>"
      ],
      "text/plain": [
       "                                                   Name  Rating  ReviewCount  \\\n",
       "22    ACT Braces Care Anticavity Mouthwash (18 Oz, C...     5.0         32.0   \n",
       "467   Versace Man Eau Fraiche Eau De Toilette Spray,...     5.0         24.0   \n",
       "302   Tree Hut Shea Sugar Scrub Passion Fruit & Guav...     5.0         22.0   \n",
       "2318  Biolage Hydrasource Conditioning Balm For Dry ...     5.0         21.0   \n",
       "3355              Ardell Double Up False Eyelashes, 203     5.0         19.0   \n",
       "3376  Hello Kids Fluoride Free and SLS Free Rinse, N...     5.0         19.0   \n",
       "1921         ReNew Life CleanseMore, Veggie Caps, 60 ea     5.0         15.0   \n",
       "149   Clay-Park Labs Ammonium Lactate Lotion 12% 14 ...     5.0         13.0   \n",
       "1620    (2 Pack) Pro Styl Vitamin &quotE&quot Oil, 6 Oz     5.0         13.0   \n",
       "1622                Gaiam Kids Yoga Mat Pink Zebra, 4mm     5.0         13.0   \n",
       "\n",
       "      Price                                                URL  \n",
       "22     3.98  https://www.walmart.com/ip/ACT-Braces-Care-Ant...  \n",
       "467   30.00  https://www.walmart.com/ip/Versace-Man-Eau-Fra...  \n",
       "302    6.48  https://www.walmart.com/ip/Tree-Hut-Shea-Sugar...  \n",
       "2318  18.99  https://www.walmart.com/ip/Biolage-Hydrasource...  \n",
       "3355   8.28  https://www.walmart.com/ip/Ardell-Double-Up-Fa...  \n",
       "3376  13.49  https://www.walmart.com/ip/Hello-Kids-Fluoride...  \n",
       "1921  15.55  https://www.walmart.com/ip/ReNew-Life-CleanseM...  \n",
       "149   73.55  https://www.walmart.com/ip/Clay-Park-Labs-Ammo...  \n",
       "1620   6.83  https://www.walmart.com/ip/2-Pack-Pro-Styl-Vit...  \n",
       "1622  14.28  https://www.walmart.com/ip/Gaiam-Kids-Yoga-Mat...  "
      ]
     },
     "execution_count": 81,
     "metadata": {},
     "output_type": "execute_result"
    }
   ],
   "source": [
    "def base_recommender(df, num_items=10):\n",
    "    top_rated = df.sort_values(by=['Rating', 'ReviewCount'], ascending=False)\n",
    "    top_rated = top_rated.head(num_items)\n",
    "    return top_rated[['Name', 'Rating', 'ReviewCount', 'Price', 'URL']]\n",
    "\n",
    "recommended_items = base_recommender(df, num_items=10)\n",
    "recommended_items"
   ]
  },
  {
   "cell_type": "markdown",
   "id": "2067dc64",
   "metadata": {},
   "source": [
    "Items with fewer reviews often have inflated ratings, while highly reviewed items have more reliable ratings but can be overlooked."
   ]
  },
  {
   "cell_type": "markdown",
   "id": "3c22f49f",
   "metadata": {},
   "source": [
    "Combining ratings and review counts balances quality (ratings) with popularity (review counts), ensuring fairer recommendations."
   ]
  },
  {
   "cell_type": "markdown",
   "id": "083cd83b",
   "metadata": {},
   "source": [
    "A weighted recommender addresses inflated ratings for low-reviewed items and highlights popular, reliable products."
   ]
  },
  {
   "cell_type": "markdown",
   "id": "f9c6251d",
   "metadata": {},
   "source": [
    "### A Weighted Recommender Based on Rating and Review Count"
   ]
  },
  {
   "cell_type": "code",
   "execution_count": 82,
   "id": "1afdec25",
   "metadata": {},
   "outputs": [
    {
     "data": {
      "text/html": [
       "<div>\n",
       "<style scoped>\n",
       "    .dataframe tbody tr th:only-of-type {\n",
       "        vertical-align: middle;\n",
       "    }\n",
       "\n",
       "    .dataframe tbody tr th {\n",
       "        vertical-align: top;\n",
       "    }\n",
       "\n",
       "    .dataframe thead th {\n",
       "        text-align: right;\n",
       "    }\n",
       "</style>\n",
       "<table border=\"1\" class=\"dataframe\">\n",
       "  <thead>\n",
       "    <tr style=\"text-align: right;\">\n",
       "      <th></th>\n",
       "      <th>Name</th>\n",
       "      <th>Rating</th>\n",
       "      <th>ReviewCount</th>\n",
       "      <th>Price</th>\n",
       "      <th>Score</th>\n",
       "    </tr>\n",
       "  </thead>\n",
       "  <tbody>\n",
       "    <tr>\n",
       "      <th>1153</th>\n",
       "      <td>Pine-Sol All-Purpose Cleaner, Lemon, 144 oz, B...</td>\n",
       "      <td>4.8</td>\n",
       "      <td>9806.0</td>\n",
       "      <td>23.80</td>\n",
       "      <td>0.953376</td>\n",
       "    </tr>\n",
       "    <tr>\n",
       "      <th>4681</th>\n",
       "      <td>Cascade Platinum ActionPacs, Dishwasher Deterg...</td>\n",
       "      <td>4.8</td>\n",
       "      <td>5388.0</td>\n",
       "      <td>9.93</td>\n",
       "      <td>0.947553</td>\n",
       "    </tr>\n",
       "    <tr>\n",
       "      <th>4238</th>\n",
       "      <td>Pine-Sol Multi-Surface Cleaner, Original, 144 ...</td>\n",
       "      <td>4.7</td>\n",
       "      <td>20997.0</td>\n",
       "      <td>9.78</td>\n",
       "      <td>0.942779</td>\n",
       "    </tr>\n",
       "    <tr>\n",
       "      <th>1065</th>\n",
       "      <td>Gain Original 96 Loads, Liquid Laundry Deterge...</td>\n",
       "      <td>4.8</td>\n",
       "      <td>3175.0</td>\n",
       "      <td>13.44</td>\n",
       "      <td>0.942412</td>\n",
       "    </tr>\n",
       "    <tr>\n",
       "      <th>374</th>\n",
       "      <td>Garnier Whole Blends Repairing Shampoo Honey T...</td>\n",
       "      <td>4.7</td>\n",
       "      <td>13809.0</td>\n",
       "      <td>5.47</td>\n",
       "      <td>0.938704</td>\n",
       "    </tr>\n",
       "    <tr>\n",
       "      <th>4221</th>\n",
       "      <td>3 Pack - Summers Eve Feminine Cleansing Cloths...</td>\n",
       "      <td>4.9</td>\n",
       "      <td>301.0</td>\n",
       "      <td>17.24</td>\n",
       "      <td>0.937531</td>\n",
       "    </tr>\n",
       "  </tbody>\n",
       "</table>\n",
       "</div>"
      ],
      "text/plain": [
       "                                                   Name  Rating  ReviewCount  \\\n",
       "1153  Pine-Sol All-Purpose Cleaner, Lemon, 144 oz, B...     4.8       9806.0   \n",
       "4681  Cascade Platinum ActionPacs, Dishwasher Deterg...     4.8       5388.0   \n",
       "4238  Pine-Sol Multi-Surface Cleaner, Original, 144 ...     4.7      20997.0   \n",
       "1065  Gain Original 96 Loads, Liquid Laundry Deterge...     4.8       3175.0   \n",
       "374   Garnier Whole Blends Repairing Shampoo Honey T...     4.7      13809.0   \n",
       "4221  3 Pack - Summers Eve Feminine Cleansing Cloths...     4.9        301.0   \n",
       "\n",
       "      Price     Score  \n",
       "1153  23.80  0.953376  \n",
       "4681   9.93  0.947553  \n",
       "4238   9.78  0.942779  \n",
       "1065  13.44  0.942412  \n",
       "374    5.47  0.938704  \n",
       "4221  17.24  0.937531  "
      ]
     },
     "execution_count": 82,
     "metadata": {},
     "output_type": "execute_result"
    }
   ],
   "source": [
    "def weighted_recommender(df):\n",
    "    df['NormRating'] = df['Rating'] / df['Rating'].max()\n",
    "    df['NormReview'] = np.log1p(df['ReviewCount']) / np.log1p(df['ReviewCount']).max()\n",
    "    df['Score'] = (0.9 * df['NormRating'] + 0.1 * df['NormReview'])\n",
    "\n",
    "    top_items = df.sort_values(by='Score', ascending=False)\n",
    "    return top_items.head(6)\n",
    "\n",
    "recommended_items = weighted_recommender(df)\n",
    "recommended_items[['Name', 'Rating', 'ReviewCount', 'Price', 'Score']]"
   ]
  },
  {
   "cell_type": "markdown",
   "id": "0eeeb4c6",
   "metadata": {},
   "source": [
    "# Content-Based Recommendation System"
   ]
  },
  {
   "cell_type": "code",
   "execution_count": 83,
   "id": "01c3bf3c",
   "metadata": {},
   "outputs": [],
   "source": [
    "df['CombinedText'] = df['Category'] + ' ' + df['Tags']"
   ]
  },
  {
   "cell_type": "code",
   "execution_count": 84,
   "id": "126ef0a5",
   "metadata": {},
   "outputs": [],
   "source": [
    "from sklearn.feature_extraction.text import TfidfVectorizer\n",
    "tfidf = TfidfVectorizer(ngram_range=(2, 3), stop_words='english', max_features=5000)\n",
    "tfidf_matrix = tfidf.fit_transform(df['CombinedText'])"
   ]
  },
  {
   "cell_type": "code",
   "execution_count": 85,
   "id": "f4b91e2a",
   "metadata": {},
   "outputs": [
    {
     "data": {
      "text/plain": [
       "(5000, 5000)"
      ]
     },
     "execution_count": 85,
     "metadata": {},
     "output_type": "execute_result"
    }
   ],
   "source": [
    "tfidf_matrix.shape"
   ]
  },
  {
   "cell_type": "code",
   "execution_count": 86,
   "id": "125ea864",
   "metadata": {},
   "outputs": [
    {
     "data": {
      "text/plain": [
       "array([[1.        , 0.        , 0.        , ..., 0.        , 0.02808989,\n",
       "        0.        ],\n",
       "       [0.        , 1.        , 0.52350205, ..., 0.        , 0.        ,\n",
       "        0.        ],\n",
       "       [0.        , 0.52350205, 1.        , ..., 0.        , 0.        ,\n",
       "        0.        ],\n",
       "       ...,\n",
       "       [0.        , 0.        , 0.        , ..., 1.        , 0.        ,\n",
       "        0.03076539],\n",
       "       [0.02808989, 0.        , 0.        , ..., 0.        , 1.        ,\n",
       "        0.        ],\n",
       "       [0.        , 0.        , 0.        , ..., 0.03076539, 0.        ,\n",
       "        1.        ]])"
      ]
     },
     "execution_count": 86,
     "metadata": {},
     "output_type": "execute_result"
    }
   ],
   "source": [
    "from sklearn.metrics.pairwise import cosine_similarity\n",
    "cosine_sim = cosine_similarity(tfidf_matrix, tfidf_matrix)\n",
    "cosine_sim"
   ]
  },
  {
   "cell_type": "code",
   "execution_count": 87,
   "id": "5f0d82e8",
   "metadata": {},
   "outputs": [],
   "source": [
    "def recommend_product(product_index, cosine_sim=cosine_sim, top_n=10):\n",
    "    sim_scores = list(enumerate(cosine_sim[product_index]))    \n",
    "    sim_scores = sorted(sim_scores, key=lambda x: x[1], reverse=True)\n",
    "    sim_scores = sim_scores[1:top_n+1]\n",
    "    \n",
    "    product_indices = [x[0] for x in sim_scores]\n",
    "    similarity_scores = [x[1] for x in sim_scores]\n",
    "    \n",
    "    recommended_products = df.iloc[product_indices]\n",
    "    recommended_products['Similarity'] = similarity_scores\n",
    " \n",
    "    return recommended_products.head(6)"
   ]
  },
  {
   "cell_type": "code",
   "execution_count": 88,
   "id": "168b6d19",
   "metadata": {},
   "outputs": [
    {
     "name": "stderr",
     "output_type": "stream",
     "text": [
      "C:\\Users\\ahmed_3hijq3m\\AppData\\Local\\Temp\\ipykernel_11640\\1546348234.py:10: SettingWithCopyWarning: \n",
      "A value is trying to be set on a copy of a slice from a DataFrame.\n",
      "Try using .loc[row_indexer,col_indexer] = value instead\n",
      "\n",
      "See the caveats in the documentation: https://pandas.pydata.org/pandas-docs/stable/user_guide/indexing.html#returning-a-view-versus-a-copy\n",
      "  recommended_products['Similarity'] = similarity_scores\n"
     ]
    },
    {
     "data": {
      "text/html": [
       "<div>\n",
       "<style scoped>\n",
       "    .dataframe tbody tr th:only-of-type {\n",
       "        vertical-align: middle;\n",
       "    }\n",
       "\n",
       "    .dataframe tbody tr th {\n",
       "        vertical-align: top;\n",
       "    }\n",
       "\n",
       "    .dataframe thead th {\n",
       "        text-align: right;\n",
       "    }\n",
       "</style>\n",
       "<table border=\"1\" class=\"dataframe\">\n",
       "  <thead>\n",
       "    <tr style=\"text-align: right;\">\n",
       "      <th></th>\n",
       "      <th>Name</th>\n",
       "      <th>Rating</th>\n",
       "      <th>ReviewCount</th>\n",
       "      <th>Price</th>\n",
       "      <th>Similarity</th>\n",
       "    </tr>\n",
       "  </thead>\n",
       "  <tbody>\n",
       "    <tr>\n",
       "      <th>2076</th>\n",
       "      <td>$6 Mail-In Rebate Available Braun Epilator Sil...</td>\n",
       "      <td>4.5</td>\n",
       "      <td>146.0</td>\n",
       "      <td>34.94</td>\n",
       "      <td>0.691674</td>\n",
       "    </tr>\n",
       "    <tr>\n",
       "      <th>688</th>\n",
       "      <td>Philips sonicare diamondclean smart 9300 elect...</td>\n",
       "      <td>4.5</td>\n",
       "      <td>758.0</td>\n",
       "      <td>199.95</td>\n",
       "      <td>0.586043</td>\n",
       "    </tr>\n",
       "    <tr>\n",
       "      <th>2221</th>\n",
       "      <td>Oral-B 7000 Smartseries Electric Toothbrush, 3...</td>\n",
       "      <td>4.8</td>\n",
       "      <td>1104.0</td>\n",
       "      <td>219.97</td>\n",
       "      <td>0.562181</td>\n",
       "    </tr>\n",
       "    <tr>\n",
       "      <th>2905</th>\n",
       "      <td>Schick Intuition Hello Kitty Advanced Moisture...</td>\n",
       "      <td>3.1</td>\n",
       "      <td>12.0</td>\n",
       "      <td>16.49</td>\n",
       "      <td>0.538710</td>\n",
       "    </tr>\n",
       "    <tr>\n",
       "      <th>3399</th>\n",
       "      <td>Gentlemen Republic Grooming Hard Hold &amp; Shine ...</td>\n",
       "      <td>5.0</td>\n",
       "      <td>1.0</td>\n",
       "      <td>42.95</td>\n",
       "      <td>0.237124</td>\n",
       "    </tr>\n",
       "    <tr>\n",
       "      <th>4195</th>\n",
       "      <td>GIOVANNI 2chic Ultra Volume Amplifying Hair St...</td>\n",
       "      <td>0.0</td>\n",
       "      <td>0.0</td>\n",
       "      <td>10.15</td>\n",
       "      <td>0.228623</td>\n",
       "    </tr>\n",
       "  </tbody>\n",
       "</table>\n",
       "</div>"
      ],
      "text/plain": [
       "                                                   Name  Rating  ReviewCount  \\\n",
       "2076  $6 Mail-In Rebate Available Braun Epilator Sil...     4.5        146.0   \n",
       "688   Philips sonicare diamondclean smart 9300 elect...     4.5        758.0   \n",
       "2221  Oral-B 7000 Smartseries Electric Toothbrush, 3...     4.8       1104.0   \n",
       "2905  Schick Intuition Hello Kitty Advanced Moisture...     3.1         12.0   \n",
       "3399  Gentlemen Republic Grooming Hard Hold & Shine ...     5.0          1.0   \n",
       "4195  GIOVANNI 2chic Ultra Volume Amplifying Hair St...     0.0          0.0   \n",
       "\n",
       "       Price  Similarity  \n",
       "2076   34.94    0.691674  \n",
       "688   199.95    0.586043  \n",
       "2221  219.97    0.562181  \n",
       "2905   16.49    0.538710  \n",
       "3399   42.95    0.237124  \n",
       "4195   10.15    0.228623  "
      ]
     },
     "execution_count": 88,
     "metadata": {},
     "output_type": "execute_result"
    }
   ],
   "source": [
    "recommended_products = recommend_product(product_index=10)\n",
    "recommended_products[['Name', 'Rating', 'ReviewCount', 'Price', 'Similarity']]"
   ]
  },
  {
   "cell_type": "code",
   "execution_count": null,
   "id": "20f9c08f",
   "metadata": {},
   "outputs": [],
   "source": []
  }
 ],
 "metadata": {
  "kernelspec": {
   "display_name": "Python 3",
   "language": "python",
   "name": "python3"
  },
  "language_info": {
   "codemirror_mode": {
    "name": "ipython",
    "version": 3
   },
   "file_extension": ".py",
   "mimetype": "text/x-python",
   "name": "python",
   "nbconvert_exporter": "python",
   "pygments_lexer": "ipython3",
   "version": "3.12.6"
  }
 },
 "nbformat": 4,
 "nbformat_minor": 5
}
